  {
   "cell_type": "code",
   "execution_count": 114,
   "metadata": {},
   "outputs": [],
   "source": [
    "aUrl= 'https://query1.finance.yahoo.com/v7/finance/download/%5EGSPC?period1=-1325635200&period2=1588550400&interval=1d&events=history'\n",
    "import pandas as pd\n",
    "df= pd.read_csv(aUrl)\n"
   ]
  },
  {
   "cell_type": "code",
   "execution_count": 115,
   "metadata": {},
   "outputs": [
    {
     "data": {
      "text/html": [
       "<div>\n",
       "<style scoped>\n",
       "    .dataframe tbody tr th:only-of-type {\n",
       "        vertical-align: middle;\n",
       "    }\n",
       "\n",
       "    .dataframe tbody tr th {\n",
       "        vertical-align: top;\n",
       "    }\n",
       "\n",
       "    .dataframe thead th {\n",
       "        text-align: right;\n",
       "    }\n",
       "</style>\n",
       "<table border=\"1\" class=\"dataframe\">\n",
       "  <thead>\n",
       "    <tr style=\"text-align: right;\">\n",
       "      <th></th>\n",
       "      <th>Date</th>\n",
       "      <th>Open</th>\n",
       "      <th>High</th>\n",
       "      <th>Low</th>\n",
       "      <th>Close</th>\n",
       "      <th>Adj Close</th>\n",
       "      <th>Volume</th>\n",
       "    </tr>\n",
       "  </thead>\n",
       "  <tbody>\n",
       "    <tr>\n",
       "      <th>0</th>\n",
       "      <td>1927-12-30</td>\n",
       "      <td>17.660000</td>\n",
       "      <td>17.660000</td>\n",
       "      <td>17.660000</td>\n",
       "      <td>17.660000</td>\n",
       "      <td>17.660000</td>\n",
       "      <td>0</td>\n",
       "    </tr>\n",
       "    <tr>\n",
       "      <th>1</th>\n",
       "      <td>1928-01-03</td>\n",
       "      <td>17.760000</td>\n",
       "      <td>17.760000</td>\n",
       "      <td>17.760000</td>\n",
       "      <td>17.760000</td>\n",
       "      <td>17.760000</td>\n",
       "      <td>0</td>\n",
       "    </tr>\n",
       "    <tr>\n",
       "      <th>2</th>\n",
       "      <td>1928-01-04</td>\n",
       "      <td>17.719999</td>\n",
       "      <td>17.719999</td>\n",
       "      <td>17.719999</td>\n",
       "      <td>17.719999</td>\n",
       "      <td>17.719999</td>\n",
       "      <td>0</td>\n",
       "    </tr>\n",
       "    <tr>\n",
       "      <th>3</th>\n",
       "      <td>1928-01-05</td>\n",
       "      <td>17.549999</td>\n",
       "      <td>17.549999</td>\n",
       "      <td>17.549999</td>\n",
       "      <td>17.549999</td>\n",
       "      <td>17.549999</td>\n",
       "      <td>0</td>\n",
       "    </tr>\n",
       "    <tr>\n",
       "      <th>4</th>\n",
       "      <td>1928-01-06</td>\n",
       "      <td>17.660000</td>\n",
       "      <td>17.660000</td>\n",
       "      <td>17.660000</td>\n",
       "      <td>17.660000</td>\n",
       "      <td>17.660000</td>\n",
       "      <td>0</td>\n",
       "    </tr>\n",
       "    <tr>\n",
       "      <th>...</th>\n",
       "      <td>...</td>\n",
       "      <td>...</td>\n",
       "      <td>...</td>\n",
       "      <td>...</td>\n",
       "      <td>...</td>\n",
       "      <td>...</td>\n",
       "      <td>...</td>\n",
       "    </tr>\n",
       "    <tr>\n",
       "      <th>23188</th>\n",
       "      <td>2020-04-27</td>\n",
       "      <td>2854.649902</td>\n",
       "      <td>2887.719971</td>\n",
       "      <td>2852.889893</td>\n",
       "      <td>2878.479980</td>\n",
       "      <td>2878.479980</td>\n",
       "      <td>5194260000</td>\n",
       "    </tr>\n",
       "    <tr>\n",
       "      <th>23189</th>\n",
       "      <td>2020-04-28</td>\n",
       "      <td>2909.959961</td>\n",
       "      <td>2921.149902</td>\n",
       "      <td>2860.709961</td>\n",
       "      <td>2863.389893</td>\n",
       "      <td>2863.389893</td>\n",
       "      <td>5672880000</td>\n",
       "    </tr>\n",
       "    <tr>\n",
       "      <th>23190</th>\n",
       "      <td>2020-04-29</td>\n",
       "      <td>2918.459961</td>\n",
       "      <td>2954.860107</td>\n",
       "      <td>2912.159912</td>\n",
       "      <td>2939.510010</td>\n",
       "      <td>2939.510010</td>\n",
       "      <td>6620140000</td>\n",
       "    </tr>\n",
       "    <tr>\n",
       "      <th>23191</th>\n",
       "      <td>2020-04-30</td>\n",
       "      <td>2930.909912</td>\n",
       "      <td>2930.909912</td>\n",
       "      <td>2892.469971</td>\n",
       "      <td>2912.429932</td>\n",
       "      <td>2912.429932</td>\n",
       "      <td>6523120000</td>\n",
       "    </tr>\n",
       "    <tr>\n",
       "      <th>23192</th>\n",
       "      <td>2020-05-01</td>\n",
       "      <td>2869.090088</td>\n",
       "      <td>2869.090088</td>\n",
       "      <td>2821.610107</td>\n",
       "      <td>2830.709961</td>\n",
       "      <td>2830.709961</td>\n",
       "      <td>4753160000</td>\n",
       "    </tr>\n",
       "  </tbody>\n",
       "</table>\n",
       "<p>23193 rows × 7 columns</p>\n",
       "</div>"
      ],
      "text/plain": [
       "             Date         Open         High          Low        Close  \\\n",
       "0      1927-12-30    17.660000    17.660000    17.660000    17.660000   \n",
       "1      1928-01-03    17.760000    17.760000    17.760000    17.760000   \n",
       "2      1928-01-04    17.719999    17.719999    17.719999    17.719999   \n",
       "3      1928-01-05    17.549999    17.549999    17.549999    17.549999   \n",
       "4      1928-01-06    17.660000    17.660000    17.660000    17.660000   \n",
       "...           ...          ...          ...          ...          ...   \n",
       "23188  2020-04-27  2854.649902  2887.719971  2852.889893  2878.479980   \n",
       "23189  2020-04-28  2909.959961  2921.149902  2860.709961  2863.389893   \n",
       "23190  2020-04-29  2918.459961  2954.860107  2912.159912  2939.510010   \n",
       "23191  2020-04-30  2930.909912  2930.909912  2892.469971  2912.429932   \n",
       "23192  2020-05-01  2869.090088  2869.090088  2821.610107  2830.709961   \n",
       "\n",
       "         Adj Close      Volume  \n",
       "0        17.660000           0  \n",
       "1        17.760000           0  \n",
       "2        17.719999           0  \n",
       "3        17.549999           0  \n",
       "4        17.660000           0  \n",
       "...            ...         ...  \n",
       "23188  2878.479980  5194260000  \n",
       "23189  2863.389893  5672880000  \n",
       "23190  2939.510010  6620140000  \n",
       "23191  2912.429932  6523120000  \n",
       "23192  2830.709961  4753160000  \n",
       "\n",
       "[23193 rows x 7 columns]"
      ]
     },
     "execution_count": 115,
     "metadata": {},
     "output_type": "execute_result"
    }
   ],
   "source": [
    "df"
   ]
  },
  {
   "cell_type": "code",
   "execution_count": 118,
   "metadata": {},
   "outputs": [
    {
     "data": {
      "text/plain": [
       "[<matplotlib.lines.Line2D at 0x25eebb6ad08>]"
      ]
     },
     "execution_count": 118,
     "metadata": {},
     "output_type": "execute_result"
    },
    {
     "data": {
      "image/png": "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\n",
      "text/plain": [
       "<Figure size 432x288 with 1 Axes>"
      ]
     },
     "metadata": {
      "needs_background": "light"
     },
     "output_type": "display_data"
    }
   ],
   "source": [
    "ys= df['Close'].values\n",
    "ys= ys[-5000:]\n",
    "pl.plot(ys)"
   ]
  },
  {
   "cell_type": "code",
   "execution_count": 119,
   "metadata": {},
   "outputs": [],
   "source": [
    "yWave= td.Wave(ys, framerate= 10000)\n"
   ]
  },
  {
   "cell_type": "code",
   "execution_count": 120,
   "metadata": {},
   "outputs": [
    {
     "data": {
      "image/png": "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\n",
      "text/plain": [
       "<Figure size 432x288 with 1 Axes>"
      ]
     },
     "metadata": {
      "needs_background": "light"
     },
     "output_type": "display_data"
    }
   ],
   "source": [
    "yWave.plot()"
   ]
  },
  {
   "cell_type": "code",
   "execution_count": 126,
   "metadata": {},
   "outputs": [
    {
     "data": {
      "image/png": "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\n",
      "text/plain": [
       "<Figure size 432x288 with 1 Axes>"
      ]
     },
     "metadata": {
      "needs_background": "light"
     },
     "output_type": "display_data"
    }
   ],
   "source": [
    "yWave.make_spectrum().make_integrated_spectrum().plot_power()\n",
    "pl.xscale('log')\n",
    "pl.yscale('log')"
   ]
  },
  {
   "cell_type": "code",
   "execution_count": 127,
   "metadata": {},
   "outputs": [
    {
     "data": {
      "text/plain": [
       "LinregressResult(slope=0.00032118267557806565, intercept=-0.0025138728815941023, rvalue=0.42786931354255375, pvalue=7.735021238915467e-112, stderr=1.3574898947827898e-05)"
      ]
     },
     "execution_count": 127,
     "metadata": {},
     "output_type": "execute_result"
    }
   ],
   "source": [
    "yWave.make_spectrum().make_integrated_spectrum().estimate_slope()"
   ]
  },
  {
   "cell_type": "code",
   "execution_count": null,
   "metadata": {},
   "outputs": [],
   "source": [
    "# integrated_spectrum 之 log-log slope= .0003 近似於 0，\n",
    "# 因此 yWave 近似Brownian Noise"
   ]
  },
  {
   "cell_type": "code",
   "execution_count": null,
   "metadata": {},
   "outputs": [],
   "source": []
  }
 ],
 "metadata": {
  "kernelspec": {
   "display_name": "Python 3",
   "language": "python",
   "name": "python3"
  },
  "language_info": {
   "codemirror_mode": {
    "name": "ipython",
    "version": 3
   },
   "file_extension": ".py",
   "mimetype": "text/x-python",
   "name": "python",
   "nbconvert_exporter": "python",
   "pygments_lexer": "ipython3",
   "version": "3.7.4"
  },
  "latex_envs": {
   "LaTeX_envs_menu_present": true,
   "autoclose": false,
   "autocomplete": true,
   "bibliofile": "biblio.bib",
   "cite_by": "apalike",
   "current_citInitial": 1,
   "eqLabelWithNumbers": true,
   "eqNumInitial": 1,
   "hotkeys": {
    "equation": "Ctrl-E",
    "itemize": "Ctrl-I"
   },
   "labels_anchors": false,
   "latex_user_defs": false,
   "report_style_numbering": false,
   "user_envs_cfg": false
  },
  "nbTranslate": {
   "displayLangs": [
    "zh-TW",
    "en"
   ],
   "hotkey": "alt-t",
   "langInMainMenu": true,
   "sourceLang": "en",
   "targetLang": "zh-TW",
   "useGoogleTranslate": true
  },
  "toc": {
   "base_numbering": 1,
   "nav_menu": {},
   "number_sections": true,
   "sideBar": true,
   "skip_h1_title": false,
   "title_cell": "Table of Contents",
   "title_sidebar": "Contents",
   "toc_cell": false,
   "toc_position": {},
   "toc_section_display": true,
   "toc_window_display": false
  },
  "varInspector": {
   "cols": {
    "lenName": 16,
    "lenType": 16,
    "lenVar": 40
   },
   "kernels_config": {
    "python": {
     "delete_cmd_postfix": "",
     "delete_cmd_prefix": "del ",
     "library": "var_list.py",
     "varRefreshCmd": "print(var_dic_list())"
    },
    "r": {
     "delete_cmd_postfix": ") ",
     "delete_cmd_prefix": "rm(",
     "library": "var_list.r",
     "varRefreshCmd": "cat(var_dic_list()) "
    }
   },
   "types_to_exclude": [
    "module",
    "function",
    "builtin_function_or_method",
    "instance",
    "_Feature"
   ],
   "window_display": false
  }
 },
 "nbformat": 4,
 "nbformat_minor": 2
}
