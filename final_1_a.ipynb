{
 "cells": [
  {
   "cell_type": "code",
   "execution_count": 34,
   "metadata": {},
   "outputs": [],
   "source": [
    "%matplotlib inline\n",
    "\n",
    "import thinkdsp\n",
    "import thinkplot\n",
    "import thinkstats2\n",
    "import numpy as np\n",
    "\n",
    "PI2 = 2 * np.pi"
   ]
  },
  {
   "cell_type": "code",
   "execution_count": 35,
   "metadata": {},
   "outputs": [],
   "source": [
    "def analyze2(ys, freqs, ts):\n",
    "    args = np.outer(ts, freqs)\n",
    "    M = np.exp(1j * PI2 * args)\n",
    "    amps = M.conj().transpose().dot(ys) / N\n",
    "    return amps\n"
   ]
  },
  {
   "cell_type": "code",
   "execution_count": 36,
   "metadata": {},
   "outputs": [
    {
     "name": "stdout",
     "output_type": "stream",
     "text": [
      "[ 1.00000000e+00+0.00000000e+00j -6.93889390e-17+2.77555756e-17j\n",
      " -5.35782975e-17-5.55111512e-17j -2.77555756e-17+1.11022302e-16j\n",
      "  0.00000000e+00-6.12323400e-17j -2.63677968e-16-1.52655666e-16j\n",
      " -3.66621044e-16-8.32667268e-17j  4.44089210e-16+1.38777878e-16j]\n"
     ]
    }
   ],
   "source": [
    "N = 8\n",
    "amps = np.array([1,0,0,0,0,0,0,0])\n",
    "freqs = np.arange(N)\n",
    "ts = np.arange(N)/N\n",
    "ys = synthesize2(amps,freqs,ts)\n",
    "amps3 = analyze2(ys,freqs,ts)\n",
    "print(amps3)"
   ]
  },
  {
   "cell_type": "code",
   "execution_count": 37,
   "metadata": {},
   "outputs": [],
   "source": [
    "def synthesize1(amps, freqs, ts):\n",
    "    components = [thinkdsp.ComplexSinusoid(freq, amp) for amp, freq in zip(amps, freqs)]\n",
    "    signal = thinkdsp.SumSignal(*components)\n",
    "    ys = signal.evaluate(ts)\n",
    "    return ys\n"
   ]
  },
  {
   "cell_type": "code",
   "execution_count": 38,
   "metadata": {
    "scrolled": true
   },
   "outputs": [
    {
     "name": "stdout",
     "output_type": "stream",
     "text": [
      "[ 1.00000000e+00+0.00000000e+00j -6.93889390e-17+2.77555756e-17j\n",
      " -5.35782975e-17-5.55111512e-17j -2.77555756e-17+1.11022302e-16j\n",
      "  0.00000000e+00-6.12323400e-17j -2.63677968e-16-1.52655666e-16j\n",
      " -3.66621044e-16-8.32667268e-17j  4.44089210e-16+1.38777878e-16j]\n"
     ]
    }
   ],
   "source": [
    "N=8\n",
    "amps = np.array([1,0,0,0,0,0,0,0])\n",
    "freqs = np.arange(N)\n",
    "ts = np.arange(N)/N\n",
    "ys = synthesize2(amps,freqs,ts)\n",
    "amps3 = analyze2(ys, freqs, ts)\n",
    "print(amps3)"
   ]
  },
  {
   "cell_type": "code",
   "execution_count": 39,
   "metadata": {},
   "outputs": [],
   "source": [
    "def synthesize2(amps, freqs, ts):\n",
    "    args = np.outer(ts, freqs)\n",
    "    M = np.exp(1j * PI2 * args)\n",
    "    ys = np.dot(M, amps)\n",
    "    return ys"
   ]
  },
  {
   "cell_type": "code",
   "execution_count": 40,
   "metadata": {},
   "outputs": [],
   "source": [
    "def analyze1(ys, freqs, ts):\n",
    "    args = np.outer(ts, freqs)\n",
    "    M = np.exp(1j*PI2*args)\n",
    "    amps = np.linalg.solve(M, ys)\n",
    "    return amps"
   ]
  },
  {
   "cell_type": "code",
   "execution_count": 41,
   "metadata": {},
   "outputs": [
    {
     "name": "stdout",
     "output_type": "stream",
     "text": [
      "[ 1.00000000e+00+0.00000000e+00j -6.93889390e-17+2.77555756e-17j\n",
      " -5.35782975e-17-5.55111512e-17j -2.77555756e-17+1.11022302e-16j\n",
      "  0.00000000e+00-6.12323400e-17j -2.63677968e-16-1.52655666e-16j\n",
      " -3.66621044e-16-8.32667268e-17j  4.44089210e-16+1.38777878e-16j]\n"
     ]
    }
   ],
   "source": [
    "N=8\n",
    "amps = np.array([1,0,0,0,0,0,0,0])\n",
    "freqs = np.arange(N)\n",
    "ts = np.arange(N)/N\n",
    "ys = synthesize2(amps,freqs,ts)\n",
    "amps3 = analyze2(ys, freqs, ts)\n",
    "print(amps3)"
   ]
  },
  {
   "cell_type": "code",
   "execution_count": 42,
   "metadata": {},
   "outputs": [],
   "source": [
    "def synthesis_matrix(N):\n",
    "    ts = np.arange(N)/N\n",
    "    freqs = np.arange(N)\n",
    "    args = np.outer(ts, freqs)\n",
    "    M = np.exp(1j * PI2 * args)\n",
    "    return M"
   ]
  },
  {
   "cell_type": "code",
   "execution_count": 43,
   "metadata": {},
   "outputs": [],
   "source": [
    "def dft(ys):\n",
    "    N = len(ys)\n",
    "    M = synthesis_matrix(N)\n",
    "    amps = M.conj().transpose().dot(ys)\n",
    "    return amps"
   ]
  },
  {
   "cell_type": "code",
   "execution_count": 44,
   "metadata": {},
   "outputs": [
    {
     "name": "stdout",
     "output_type": "stream",
     "text": [
      "[ 8.00000000e+00+0.00000000e+00j -5.55111512e-16+2.22044605e-16j\n",
      " -4.28626380e-16-4.44089210e-16j -2.22044605e-16+8.88178420e-16j\n",
      "  0.00000000e+00-4.89858720e-16j -2.10942375e-15-1.22124533e-15j\n",
      " -2.93296835e-15-6.66133815e-16j  3.55271368e-15+1.11022302e-15j]\n"
     ]
    }
   ],
   "source": [
    "print (dft(ys))"
   ]
  },
  {
   "cell_type": "code",
   "execution_count": null,
   "metadata": {},
   "outputs": [],
   "source": []
  }
 ],
 "metadata": {
  "kernelspec": {
   "display_name": "Python 3",
   "language": "python",
   "name": "python3"
  },
  "language_info": {
   "codemirror_mode": {
    "name": "ipython",
    "version": 3
   },
   "file_extension": ".py",
   "mimetype": "text/x-python",
   "name": "python",
   "nbconvert_exporter": "python",
   "pygments_lexer": "ipython3",
   "version": "3.7.4"
  }
 },
 "nbformat": 4,
 "nbformat_minor": 2
}
