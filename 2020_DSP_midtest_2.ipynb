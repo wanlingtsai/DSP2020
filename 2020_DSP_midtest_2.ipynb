In [89]:
import thinkdsp as td

x= td.UncorrelatedGaussianNoise()
x= x.make_wave(duration= 1, framerate= 10000)
x
Out[89]:
<thinkdsp.Wave at 0x25eecef74c8>
In [90]:
x.ts, x.ys
x.ys.shape
Out[90]:
(10000,)
In [91]:
import matplotlib.pyplot as pl
pl.plot(x.ts, x.ys)
Out[91]:
[<matplotlib.lines.Line2D at 0x25eecf3d848>]

In [92]:
x.ys.max(), x.ys.mean(), x.ys.std()
Out[92]:
(3.706034728922622, -0.013070657816582175, 1.0025501030383948)
In [95]:
sx= x.make_spectrum()
sx.fs, sx.hs 
sx.hs.shape
Out[95]:
(5001,)
In [96]:
sx.plot()

In [97]:
sx.plot_power()

In [100]:
Sx= sx.make_integrated_spectrum()
Sx.cs.shape
Out[100]:
(5001,)
In [101]:
Sx.plot_power()

In [102]:
Sx.estimate_slope()
Out[102]:
LinregressResult(slope=0.9862150803231964, intercept=-8.416376781219565, rvalue=0.9994736453890444, pvalue=0.0, stderr=0.00045279249960029975)
In [103]:
Sx.plot_power()
pl.xscale('log')
pl.yscale('log')
pl.grid(True)

In [104]:
Sx.estimate_slope()
Out[104]:
LinregressResult(slope=0.9862150803231964, intercept=-8.416376781219565, rvalue=0.9994736453890444, pvalue=0.0, stderr=0.00045279249960029975)
In [105]:
y= x.cumsum()
x.ys.shape, y.ys.shape
Out[105]:
((10000,), (10000,))
In [106]:
y.plot()

In [108]:
y.ys.max(), y.ys.mean(), y.ys.std()
Out[108]:
(70.35717861246674, -76.9233897578204, 62.92925466714424)
In [109]:
sy= y.make_spectrum()
sy.plot_power()
pl.xscale('log')
pl.yscale('log')
pl.grid(True)

In [110]:
sy.make_integrated_spectrum().plot_power()
pl.xscale('log')
pl.yscale('log')
pl.grid(True)

In [111]:
sy.make_integrated_spectrum().estimate_slope()
Out[111]:
LinregressResult(slope=0.0005718402501891253, intercept=-0.004449672818712793, rvalue=0.3375354562055031, pvalue=1.7616356363096213e-133, stderr=2.2557510407220237e-05)
In [112]:
z= td.BrownianNoise().make_wave(duration=1, framerate=10000)
z.plot()

In [113]:
z.make_spectrum().make_integrated_spectrum().estimate_slope()
Out[113]:
LinregressResult(slope=0.0020285715992482667, intercept=-0.015881052041637783, rvalue=0.5014539582932107, pvalue=0.0, stderr=4.950736330578844e-05)
