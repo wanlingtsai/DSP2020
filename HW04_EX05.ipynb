{
 "cells": [
  {
   "cell_type": "code",
   "execution_count": 1,
   "metadata": {},
   "outputs": [],
   "source": [
    "from __future__ import print_function, division\n",
    "\n",
    "import thinkdsp\n",
    "import thinkplot\n",
    "import thinkstats2\n",
    "\n",
    "import numpy as np\n",
    "import pandas as pd\n",
    "\n",
    "import warnings\n",
    "warnings.filterwarnings('ignore')\n",
    "\n",
    "from ipywidgets import interact, interactive, fixed\n",
    "import ipywidgets as widgets\n",
    "\n",
    "%matplotlib inline"
   ]
  },
  {
   "cell_type": "markdown",
   "metadata": {},
   "source": [
    "### Exercise 5\n",
    "The algorithm in this chapter for generating pink noise is\n",
    "conceptually simple but computationally expensive.  There are\n",
    "more efficient alternatives, like the Voss-McCartney algorithm.\n",
    "Research this method, implement it, compute the spectrum of\n",
    "the result, and confirm that it has the desired relationship\n",
    "between power and frequency.\n",
    "\n",
    "本章中用於產生粉紅噪聲的算法在概念上很簡單，但計算量卻很大。 還有更有效的替代方法，例如Voss-McCartney算法。 研究該方法，實施該方法，計算結果的頻譜，並確認它具有所需的功率和頻率關係。"
   ]
  },
  {
   "cell_type": "markdown",
   "metadata": {},
   "source": [
    "### Solution\n",
    "The fundamental idea of this algorithm is to add up several sequences of random numbers that get updates at different sampling rates.  The first source should get updated at every time step; the second source every other time step, the third source ever fourth step, and so on.\n",
    "\n",
    "In the original algorithm, the updates are evenly spaced.  In an alternative proposed at http://www.firstpr.com.au/dsp/pink-noise/, they are randomly spaced.\n",
    "\n",
    "My implementation starts with an array with one row per timestep and one column for each of the white noise sources.  Initially, the first row and the first column are random and the rest of the array is Nan.\n",
    "\n",
    "該算法的基本思想是將幾個隨機數序列加起來，以不同的採樣率進行更新。 第一個來源應在每個時間步進行更新； 第二個來源每隔一個時間步，第三個來源第四個步驟，依此類推。\n",
    "\n",
    "在原始算法中，更新間隔均勻。 在http://www.firstpr.com.au/dsp/pink-noise/上提出的替代方法中，將它們隨機隔開。\n",
    "\n",
    "我的實現從一個數組開始，每個時間步長一行，每個白噪聲源一行。 最初，第一行和第一列是隨機的，而數組的其餘部分是Nan。"
   ]
  },
  {
   "cell_type": "code",
   "execution_count": 29,
   "metadata": {},
   "outputs": [
    {
     "data": {
      "text/plain": [
       "array([[0.87321882, 0.15176676, 0.74824816, 0.48519283, 0.78149382],\n",
       "       [0.1826087 ,        nan,        nan,        nan,        nan],\n",
       "       [0.78358125,        nan,        nan,        nan,        nan],\n",
       "       [0.50179242,        nan,        nan,        nan,        nan],\n",
       "       [0.05859796,        nan,        nan,        nan,        nan],\n",
       "       [0.9953511 ,        nan,        nan,        nan,        nan]])"
      ]
     },
     "execution_count": 29,
     "metadata": {},
     "output_type": "execute_result"
    }
   ],
   "source": [
    "nrows = 100\n",
    "ncols = 5\n",
    "\n",
    "array = np.empty((nrows, ncols))\n",
    "array.fill(np.nan)\n",
    "array[0, :] = np.random.random(ncols)\n",
    "array[:, 0] = np.random.random(nrows)\n",
    "array[0:6]"
   ]
  },
  {
   "cell_type": "markdown",
   "metadata": {},
   "source": [
    "The next step is to choose the locations where the random sources change.  If the number of rows is $n$, the number of changes in the first column is $n$, the number in the second column is $n/2$ on average, the number in the third column is $n/4$ on average, etc.\n",
    "\n",
    "So the total number of changes in the matrix is $2n$ on average; since $n$ of those are in the first column, the other $n$ are in the rest of the matrix.\n",
    "\n",
    "To place the remaining $n$ changes, we generate random columns from a geometric distribution with $p=0.5$.  If we generate a value out of bounds, we set it to 0 (so the first column gets the extras).\n",
    "\n",
    "下一步是選擇隨機源發生變化的位置。 如果行數是𝑛，則第一列的更改數是𝑛，第二列的平均數是𝑛/ 2，第三列的平均數是𝑛/ 4等。\n",
    "\n",
    "因此，矩陣中變化的總數平均為2𝑛。 由於其中的are在第一列中，因此其他𝑛在矩陣的其餘部分中。\n",
    "\n",
    "為了放置剩餘的𝑛變化，我們從distribution = 0.5的幾何分佈生成隨機列。 如果生成的值超出範圍，則將其設置為0（這樣第一列將獲得額外的值）。"
   ]
  },
  {
   "cell_type": "code",
   "execution_count": 30,
   "metadata": {},
   "outputs": [
    {
     "data": {
      "text/plain": [
       "array([2, 1, 1, 1, 2, 1, 4, 1, 2, 2, 1, 1, 1, 1, 3, 2, 2, 1, 1, 1, 0, 2,\n",
       "       3, 1, 3, 1, 4, 1, 4, 2, 2, 1, 2, 2, 2, 1, 1, 1, 1, 0, 1, 2, 1, 1,\n",
       "       4, 2, 1, 1, 2, 0, 2, 3, 2, 2, 2, 3, 1, 1, 2, 1, 1, 0, 3, 1, 2, 2,\n",
       "       1, 0, 1, 3, 1, 2, 3, 2, 1, 1, 2, 2, 3, 1, 1, 2, 1, 1, 2, 1, 1, 2,\n",
       "       2, 4, 1, 1, 1, 1, 1, 1, 1, 1, 3, 1])"
      ]
     },
     "execution_count": 30,
     "metadata": {},
     "output_type": "execute_result"
    }
   ],
   "source": [
    "p = 0.5\n",
    "n = nrows\n",
    "cols = np.random.geometric(p, n)\n",
    "cols[cols >= ncols] = 0\n",
    "cols"
   ]
  },
  {
   "cell_type": "markdown",
   "metadata": {},
   "source": [
    "Within each column, we choose a random row from a uniform distribution.  Ideally we would choose without replacement, but it is faster and easier to choose with replacement, and I doubt it matters.\n",
    "\n",
    "在每一列中，我們從均勻分佈中選擇一個隨機行。 理想情況下，我們會選擇不進行替換，但選擇替換起來更快，更容易，我懷疑這很重要。"
   ]
  },
  {
   "cell_type": "code",
   "execution_count": 31,
   "metadata": {},
   "outputs": [
    {
     "data": {
      "text/plain": [
       "array([10, 35, 67, 16, 93, 64, 84, 33, 98, 93, 65, 71, 40, 58, 31, 38, 23,\n",
       "       84, 88, 32, 84, 77, 71, 82, 59,  6, 57, 32, 23, 54, 25, 61, 21, 37,\n",
       "       72, 87, 56, 71, 73, 90, 45, 98, 60, 60, 53, 96, 38, 79, 49, 38, 17,\n",
       "       23, 27, 64, 30, 48, 42, 51, 58, 38, 41, 72, 73, 20,  8,  6, 99, 99,\n",
       "       21, 13, 82,  1,  1, 79, 26, 42, 19, 96, 50, 44, 33,  4,  6, 44, 58,\n",
       "       89, 86, 94,  1, 90, 87, 99, 30, 91, 43, 54, 89, 11, 15, 73])"
      ]
     },
     "execution_count": 31,
     "metadata": {},
     "output_type": "execute_result"
    }
   ],
   "source": [
    "rows = np.random.randint(nrows, size=n)\n",
    "rows"
   ]
  },
  {
   "cell_type": "markdown",
   "metadata": {},
   "source": [
    "Now we can put random values at rach of the change points.\n",
    "\n",
    "現在我們可以將隨機值放在每個更改點上。"
   ]
  },
  {
   "cell_type": "code",
   "execution_count": 32,
   "metadata": {},
   "outputs": [
    {
     "data": {
      "text/plain": [
       "array([[0.87321882, 0.15176676, 0.74824816, 0.48519283, 0.78149382],\n",
       "       [0.1826087 ,        nan, 0.87431626, 0.42643847,        nan],\n",
       "       [0.78358125,        nan,        nan,        nan,        nan],\n",
       "       [0.50179242,        nan,        nan,        nan,        nan],\n",
       "       [0.05859796,        nan, 0.45289471,        nan,        nan],\n",
       "       [0.9953511 ,        nan,        nan,        nan,        nan]])"
      ]
     },
     "execution_count": 32,
     "metadata": {},
     "output_type": "execute_result"
    }
   ],
   "source": [
    "array[rows, cols] = np.random.random(n)\n",
    "array[0:6]"
   ]
  },
  {
   "cell_type": "markdown",
   "metadata": {},
   "source": [
    "Next we want to do a zero-order hold to fill in the NaNs.  NumPy doesn't do that, but Pandas does.  So I'll create a DataFrame:\n",
    "\n",
    "接下來，我們要進行零級保留以填充NaN。 NumPy不會這樣做，但是Pandas會這樣做。 因此，我將創建一個DataFrame："
   ]
  },
  {
   "cell_type": "code",
   "execution_count": 33,
   "metadata": {},
   "outputs": [
    {
     "data": {
      "text/html": [
       "<div>\n",
       "<style scoped>\n",
       "    .dataframe tbody tr th:only-of-type {\n",
       "        vertical-align: middle;\n",
       "    }\n",
       "\n",
       "    .dataframe tbody tr th {\n",
       "        vertical-align: top;\n",
       "    }\n",
       "\n",
       "    .dataframe thead th {\n",
       "        text-align: right;\n",
       "    }\n",
       "</style>\n",
       "<table border=\"1\" class=\"dataframe\">\n",
       "  <thead>\n",
       "    <tr style=\"text-align: right;\">\n",
       "      <th></th>\n",
       "      <th>0</th>\n",
       "      <th>1</th>\n",
       "      <th>2</th>\n",
       "      <th>3</th>\n",
       "      <th>4</th>\n",
       "    </tr>\n",
       "  </thead>\n",
       "  <tbody>\n",
       "    <tr>\n",
       "      <th>0</th>\n",
       "      <td>0.873219</td>\n",
       "      <td>0.151767</td>\n",
       "      <td>0.748248</td>\n",
       "      <td>0.485193</td>\n",
       "      <td>0.781494</td>\n",
       "    </tr>\n",
       "    <tr>\n",
       "      <th>1</th>\n",
       "      <td>0.182609</td>\n",
       "      <td>NaN</td>\n",
       "      <td>0.874316</td>\n",
       "      <td>0.426438</td>\n",
       "      <td>NaN</td>\n",
       "    </tr>\n",
       "    <tr>\n",
       "      <th>2</th>\n",
       "      <td>0.783581</td>\n",
       "      <td>NaN</td>\n",
       "      <td>NaN</td>\n",
       "      <td>NaN</td>\n",
       "      <td>NaN</td>\n",
       "    </tr>\n",
       "    <tr>\n",
       "      <th>3</th>\n",
       "      <td>0.501792</td>\n",
       "      <td>NaN</td>\n",
       "      <td>NaN</td>\n",
       "      <td>NaN</td>\n",
       "      <td>NaN</td>\n",
       "    </tr>\n",
       "    <tr>\n",
       "      <th>4</th>\n",
       "      <td>0.058598</td>\n",
       "      <td>NaN</td>\n",
       "      <td>0.452895</td>\n",
       "      <td>NaN</td>\n",
       "      <td>NaN</td>\n",
       "    </tr>\n",
       "  </tbody>\n",
       "</table>\n",
       "</div>"
      ],
      "text/plain": [
       "          0         1         2         3         4\n",
       "0  0.873219  0.151767  0.748248  0.485193  0.781494\n",
       "1  0.182609       NaN  0.874316  0.426438       NaN\n",
       "2  0.783581       NaN       NaN       NaN       NaN\n",
       "3  0.501792       NaN       NaN       NaN       NaN\n",
       "4  0.058598       NaN  0.452895       NaN       NaN"
      ]
     },
     "execution_count": 33,
     "metadata": {},
     "output_type": "execute_result"
    }
   ],
   "source": [
    "df = pd.DataFrame(array)\n",
    "df.head()"
   ]
  },
  {
   "cell_type": "markdown",
   "metadata": {},
   "source": [
    "And then use `fillna` along the columns.\n",
    "\n",
    "然後沿著列使用`fillna`。"
   ]
  },
  {
   "cell_type": "code",
   "execution_count": 34,
   "metadata": {},
   "outputs": [
    {
     "data": {
      "text/html": [
       "<div>\n",
       "<style scoped>\n",
       "    .dataframe tbody tr th:only-of-type {\n",
       "        vertical-align: middle;\n",
       "    }\n",
       "\n",
       "    .dataframe tbody tr th {\n",
       "        vertical-align: top;\n",
       "    }\n",
       "\n",
       "    .dataframe thead th {\n",
       "        text-align: right;\n",
       "    }\n",
       "</style>\n",
       "<table border=\"1\" class=\"dataframe\">\n",
       "  <thead>\n",
       "    <tr style=\"text-align: right;\">\n",
       "      <th></th>\n",
       "      <th>0</th>\n",
       "      <th>1</th>\n",
       "      <th>2</th>\n",
       "      <th>3</th>\n",
       "      <th>4</th>\n",
       "    </tr>\n",
       "  </thead>\n",
       "  <tbody>\n",
       "    <tr>\n",
       "      <th>0</th>\n",
       "      <td>0.873219</td>\n",
       "      <td>0.151767</td>\n",
       "      <td>0.748248</td>\n",
       "      <td>0.485193</td>\n",
       "      <td>0.781494</td>\n",
       "    </tr>\n",
       "    <tr>\n",
       "      <th>1</th>\n",
       "      <td>0.182609</td>\n",
       "      <td>0.151767</td>\n",
       "      <td>0.874316</td>\n",
       "      <td>0.426438</td>\n",
       "      <td>0.781494</td>\n",
       "    </tr>\n",
       "    <tr>\n",
       "      <th>2</th>\n",
       "      <td>0.783581</td>\n",
       "      <td>0.151767</td>\n",
       "      <td>0.874316</td>\n",
       "      <td>0.426438</td>\n",
       "      <td>0.781494</td>\n",
       "    </tr>\n",
       "    <tr>\n",
       "      <th>3</th>\n",
       "      <td>0.501792</td>\n",
       "      <td>0.151767</td>\n",
       "      <td>0.874316</td>\n",
       "      <td>0.426438</td>\n",
       "      <td>0.781494</td>\n",
       "    </tr>\n",
       "    <tr>\n",
       "      <th>4</th>\n",
       "      <td>0.058598</td>\n",
       "      <td>0.151767</td>\n",
       "      <td>0.452895</td>\n",
       "      <td>0.426438</td>\n",
       "      <td>0.781494</td>\n",
       "    </tr>\n",
       "  </tbody>\n",
       "</table>\n",
       "</div>"
      ],
      "text/plain": [
       "          0         1         2         3         4\n",
       "0  0.873219  0.151767  0.748248  0.485193  0.781494\n",
       "1  0.182609  0.151767  0.874316  0.426438  0.781494\n",
       "2  0.783581  0.151767  0.874316  0.426438  0.781494\n",
       "3  0.501792  0.151767  0.874316  0.426438  0.781494\n",
       "4  0.058598  0.151767  0.452895  0.426438  0.781494"
      ]
     },
     "execution_count": 34,
     "metadata": {},
     "output_type": "execute_result"
    }
   ],
   "source": [
    "filled = df.fillna(method='ffill', axis=0)\n",
    "filled.head()"
   ]
  },
  {
   "cell_type": "markdown",
   "metadata": {},
   "source": [
    "Finally we add up the rows.\n",
    "\n",
    "最後，我們將行加起來。"
   ]
  },
  {
   "cell_type": "code",
   "execution_count": 35,
   "metadata": {},
   "outputs": [
    {
     "data": {
      "text/plain": [
       "0    3.039920\n",
       "1    2.416624\n",
       "2    3.017597\n",
       "3    2.735808\n",
       "4    1.871192\n",
       "dtype: float64"
      ]
     },
     "execution_count": 35,
     "metadata": {},
     "output_type": "execute_result"
    }
   ],
   "source": [
    "total = filled.sum(axis=1)\n",
    "total.head()"
   ]
  },
  {
   "cell_type": "markdown",
   "metadata": {},
   "source": [
    "If we put the results into a Wave, here's what it looks like:\n",
    "\n",
    "如果將結果放入Wave中，則結果如下所示："
   ]
  },
  {
   "cell_type": "code",
   "execution_count": 36,
   "metadata": {},
   "outputs": [
    {
     "data": {
      "image/png": "[encoded data removed]",
      "text/plain": [
       "<Figure size 432x288 with 1 Axes>"
      ]
     },
     "metadata": {
      "needs_background": "light"
     },
     "output_type": "display_data"
    }
   ],
   "source": [
    "wave = thinkdsp.Wave(total.values)\n",
    "wave.plot()"
   ]
  },
  {
   "cell_type": "markdown",
   "metadata": {},
   "source": [
    "Here's the whole process in a function:\n",
    "\n",
    "這是一個函數的整個過程："
   ]
  },
  {
   "cell_type": "code",
   "execution_count": 37,
   "metadata": {},
   "outputs": [],
   "source": [
    "def voss(nrows, ncols=16):\n",
    "    \"\"\"Generates pink noise using the Voss-McCartney algorithm.\n",
    "    \n",
    "    nrows: number of values to generate\n",
    "    rcols: number of random sources to add\n",
    "    \n",
    "    returns: NumPy array\n",
    "    \"\"\"\n",
    "    array = np.empty((nrows, ncols))\n",
    "    array.fill(np.nan)\n",
    "    array[0, :] = np.random.random(ncols)\n",
    "    array[:, 0] = np.random.random(nrows)\n",
    "    \n",
    "    # the total number of changes is nrows\n",
    "    n = nrows\n",
    "    cols = np.random.geometric(0.5, n)\n",
    "    cols[cols >= ncols] = 0\n",
    "    rows = np.random.randint(nrows, size=n)\n",
    "    array[rows, cols] = np.random.random(n)\n",
    "\n",
    "    df = pd.DataFrame(array)\n",
    "    df.fillna(method='ffill', axis=0, inplace=True)\n",
    "    total = df.sum(axis=1)\n",
    "\n",
    "    return total.values"
   ]
  },
  {
   "cell_type": "markdown",
   "metadata": {},
   "source": [
    "To test it I'll generate 11025 values:\n",
    "\n",
    "要測試它，我將生成11025個值："
   ]
  },
  {
   "cell_type": "code",
   "execution_count": 38,
   "metadata": {},
   "outputs": [
    {
     "data": {
      "text/plain": [
       "array([9.37964889, 9.35511304, 8.40084628, ..., 5.60691039, 6.23330807,\n",
       "       6.29999339])"
      ]
     },
     "execution_count": 38,
     "metadata": {},
     "output_type": "execute_result"
    }
   ],
   "source": [
    "ys = voss(11025)\n",
    "ys"
   ]
  },
  {
   "cell_type": "markdown",
   "metadata": {},
   "source": [
    "And make them into a Wave:\n",
    "\n",
    "並使它們成為Wave："
   ]
  },
  {
   "cell_type": "code",
   "execution_count": 39,
   "metadata": {},
   "outputs": [],
   "source": [
    "wave = thinkdsp.Wave(ys)\n",
    "wave.unbias()\n",
    "wave.normalize()"
   ]
  },
  {
   "cell_type": "markdown",
   "metadata": {},
   "source": [
    "Here's what it looks like:\n",
    "\n",
    "看起來是這樣的："
   ]
  },
  {
   "cell_type": "code",
   "execution_count": 40,
   "metadata": {},
   "outputs": [
    {
     "data": {
      "image/png": "[encoded data removed]",
      "text/plain": [
       "<Figure size 432x288 with 1 Axes>"
      ]
     },
     "metadata": {
      "needs_background": "light"
     },
     "output_type": "display_data"
    }
   ],
   "source": [
    "wave.plot()"
   ]
  },
  {
   "cell_type": "markdown",
   "metadata": {},
   "source": [
    "As expected, it is more random-walk-like than white noise, but more random looking than red noise.\n",
    "\n",
    "Here's what it sounds like:\n",
    "\n",
    "不出所料，它比白噪聲更像隨機行走，但比紅噪聲更像隨機行走。\n",
    "\n",
    "聽起來是這樣的："
   ]
  },
  {
   "cell_type": "code",
   "execution_count": 41,
   "metadata": {},
   "outputs": [
    {
     "data": {
      "text/html": [
       "\n",
       "                <audio  controls=\"controls\" >\n",
       "                    <source src=\"data:audio/wav;base64,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\" type=\"audio/wav\" />\n",
       "                    Your browser does not support the audio element.\n",
       "                </audio>\n",
       "              "
      ],
      "text/plain": [
       "<IPython.lib.display.Audio object>"
      ]
     },
     "execution_count": 41,
     "metadata": {},
     "output_type": "execute_result"
    }
   ],
   "source": [
    "wave.make_audio()"
   ]
  },
  {
   "cell_type": "markdown",
   "metadata": {},
   "source": [
    "And here's the power spectrum:\n",
    "\n",
    "這是功率譜："
   ]
  },
  {
   "cell_type": "code",
   "execution_count": 42,
   "metadata": {},
   "outputs": [
    {
     "data": {
      "image/png": "[encoded data removed]",
      "text/plain": [
       "<Figure size 432x288 with 1 Axes>"
      ]
     },
     "metadata": {
      "needs_background": "light"
     },
     "output_type": "display_data"
    }
   ],
   "source": [
    "spectrum = wave.make_spectrum()\n",
    "spectrum.hs[0] = 0\n",
    "spectrum.plot_power()\n",
    "thinkplot.config(xlabel='Frequency (Hz)',\n",
    "                 xscale='log', \n",
    "                 yscale='log')"
   ]
  },
  {
   "cell_type": "markdown",
   "metadata": {},
   "source": [
    "The estimated slope is close to -1.\n",
    "\n",
    "估計的斜率接近-1。"
   ]
  },
  {
   "cell_type": "code",
   "execution_count": 43,
   "metadata": {},
   "outputs": [
    {
     "data": {
      "text/plain": [
       "-0.9825800107209125"
      ]
     },
     "execution_count": 43,
     "metadata": {},
     "output_type": "execute_result"
    }
   ],
   "source": [
    "spectrum.estimate_slope().slope"
   ]
  },
  {
   "cell_type": "markdown",
   "metadata": {},
   "source": [
    "We can get a better sense of the average power spectrum by generating a longer sample:\n",
    "\n",
    "通過生成更長的樣本，我們可以更好地了解平均功率譜："
   ]
  },
  {
   "cell_type": "code",
   "execution_count": 44,
   "metadata": {},
   "outputs": [
    {
     "data": {
      "text/plain": [
       "6553600"
      ]
     },
     "execution_count": 44,
     "metadata": {},
     "output_type": "execute_result"
    }
   ],
   "source": [
    "seg_length = 64 * 1024\n",
    "iters = 100\n",
    "wave = thinkdsp.Wave(voss(seg_length * iters))\n",
    "len(wave)"
   ]
  },
  {
   "cell_type": "markdown",
   "metadata": {},
   "source": [
    "And using Barlett's method to compute the average.\n",
    "\n",
    "並使用巴列特的方法來計算平均值。"
   ]
  },
  {
   "cell_type": "code",
   "execution_count": 45,
   "metadata": {},
   "outputs": [
    {
     "data": {
      "text/plain": [
       "32769"
      ]
     },
     "execution_count": 45,
     "metadata": {},
     "output_type": "execute_result"
    }
   ],
   "source": [
    "spectrum = bartlett_method(wave, seg_length=seg_length, win_flag=False)\n",
    "spectrum.hs[0] = 0\n",
    "len(spectrum)"
   ]
  },
  {
   "cell_type": "markdown",
   "metadata": {},
   "source": [
    "It's pretty close to a straight line, with some curvature at the highest frequencies.\n",
    "\n",
    "它非常接近一條直線，在最高頻率下有些曲率。"
   ]
  },
  {
   "cell_type": "code",
   "execution_count": 46,
   "metadata": {},
   "outputs": [
    {
     "data": {
      "image/png": "[encoded data removed]",
      "text/plain": [
       "<Figure size 432x288 with 1 Axes>"
      ]
     },
     "metadata": {
      "needs_background": "light"
     },
     "output_type": "display_data"
    }
   ],
   "source": [
    "spectrum.plot_power()\n",
    "thinkplot.config(xlabel='Frequency (Hz)',\n",
    "                 xscale='log', \n",
    "                 yscale='log')"
   ]
  },
  {
   "cell_type": "markdown",
   "metadata": {},
   "source": [
    "And the slope is close to -1.\n",
    "\n",
    "斜率接近-1。"
   ]
  },
  {
   "cell_type": "code",
   "execution_count": 47,
   "metadata": {},
   "outputs": [
    {
     "data": {
      "text/plain": [
       "-1.001984134321065"
      ]
     },
     "execution_count": 47,
     "metadata": {},
     "output_type": "execute_result"
    }
   ],
   "source": [
    "spectrum.estimate_slope().slope"
   ]
  },
  {
   "cell_type": "code",
   "execution_count": null,
   "metadata": {},
   "outputs": [],
   "source": []
  }
 ],
 "metadata": {
  "kernelspec": {
   "display_name": "Python 3",
   "language": "python",
   "name": "python3"
  },
  "language_info": {
   "codemirror_mode": {
    "name": "ipython",
    "version": 3
   },
   "file_extension": ".py",
   "mimetype": "text/x-python",
   "name": "python",
   "nbconvert_exporter": "python",
   "pygments_lexer": "ipython3",
   "version": "3.7.6"
  }
 },
 "nbformat": 4,
 "nbformat_minor": 4
}
